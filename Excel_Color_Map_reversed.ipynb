{
 "cells": [
  {
   "cell_type": "code",
   "execution_count": 1,
   "id": "ae0d9abe",
   "metadata": {},
   "outputs": [],
   "source": [
    "import matplotlib.pyplot as plt\n",
    "%matplotlib inline\n",
    "\n",
    "excel_colors_r = [(99/255, 190/255, 123/255, 255/255),\n",
    "                  (144/255, 203/255, 126/255, 255/255),\n",
    "                  (189/255, 216/255, 129/255, 255/255),\n",
    "                  (233/255, 229/255, 131/255, 255/255),\n",
    "                  (254/255, 216/255, 128/255, 255/255),\n",
    "                  (252/255, 179/255, 121/255, 255/255),\n",
    "                  (250/255, 142/255, 114/255, 255/255),\n",
    "                  (248/255, 105/255, 107/255, 255/255)\n",
    "                ]\n",
    "\n",
    "from matplotlib.colors import LinearSegmentedColormap\n",
    "\n",
    "\n",
    "my_cmap_r = LinearSegmentedColormap.from_list('excelColor_r', excel_colors_r)"
   ]
  },
  {
   "cell_type": "code",
   "execution_count": 2,
   "id": "47b37750",
   "metadata": {},
   "outputs": [
    {
     "data": {
      "image/png": "[encoded data removed]",
      "text/html": [
       "<div style=\"vertical-align: middle;\"><strong>excelColor_r</strong> </div><div class=\"cmap\"><img alt=\"excelColor_r colormap\" title=\"excelColor_r\" style=\"border: 1px solid #555;\" src=\"data:image/png;base64,iVBORw0KGgoAAAANSUhEUgAAAgAAAABACAYAAABsv8+/AAAAG3RFWHRUaXRsZQBleGNlbENvbG9yX3IgY29sb3JtYXD8dozlAAAAIXRFWHREZXNjcmlwdGlvbgBleGNlbENvbG9yX3IgY29sb3JtYXB+72ZgAAAAMHRFWHRBdXRob3IATWF0cGxvdGxpYiB2My40LjIsIGh0dHBzOi8vbWF0cGxvdGxpYi5vcmes1mPdAAAAMnRFWHRTb2Z0d2FyZQBNYXRwbG90bGliIHYzLjQuMiwgaHR0cHM6Ly9tYXRwbG90bGliLm9yZ4Jw/PoAAAHHSURBVHic7dZBToNAAEBR6FU9hnfzaOJCqQFFaIvG5L+3IYzTYYaa5o9PL8/TMAzDOLy7Xsfl/WVj/Pr3jfF5/uVjZHP9nc/v72M8uI97z7Hc/83r7J5jtf6j72N93nn9k7/Xz3njj/MuG+P3P+/gvI1z37y/g/P23ud8Hdbj02p8fb8zPkzz/XLCOK3mPfy8afW879c5+rz1vGFarr99PTrvsXWnk9c76zzTWeu+nrPPr+/pb76fX38/J53nv/4fzb9XAECIAACAIAEAAEECAACCBAAABAkAAAgSAAAQJAAAIEgAAECQAACAIAEAAEECAACCBAAABAkAAAgSAAAQJAAAIEgAAECQAACAIAEAAEECAACCBAAABAkAAAgSAAAQJAAAIEgAAECQAACAIAEAAEECAACCBAAABAkAAAgSAAAQJAAAIEgAAECQAACAIAEAAEECAACCBAAABAkAAAgSAAAQJAAAIEgAAECQAACAIAEAAEECAACCBAAABAkAAAgSAAAQJAAAIEgAAECQAACAIAEAAEECAACCBAAABAkAAAgSAAAQJAAAIEgAAECQAACAIAEAAEECAACCBAAABAkAAAgSAAAQ9AYgW5lLQi9V9gAAAABJRU5ErkJggg==\"></div><div style=\"vertical-align: middle; max-width: 514px; display: flex; justify-content: space-between;\"><div style=\"float: left;\"><div title=\"#63be7bff\" style=\"display: inline-block; width: 1em; height: 1em; margin: 0; vertical-align: middle; border: 1px solid #555; background-color: #63be7bff;\"></div> under</div><div style=\"margin: 0 auto; display: inline-block;\">bad <div title=\"#00000000\" style=\"display: inline-block; width: 1em; height: 1em; margin: 0; vertical-align: middle; border: 1px solid #555; background-color: #00000000;\"></div></div><div style=\"float: right;\">over <div title=\"#f8696bff\" style=\"display: inline-block; width: 1em; height: 1em; margin: 0; vertical-align: middle; border: 1px solid #555; background-color: #f8696bff;\"></div></div>"
      ],
      "text/plain": [
       "<matplotlib.colors.LinearSegmentedColormap at 0x18ffbc25e50>"
      ]
     },
     "execution_count": 2,
     "metadata": {},
     "output_type": "execute_result"
    }
   ],
   "source": [
    "my_cmap_r"
   ]
  },
  {
   "cell_type": "code",
   "execution_count": null,
   "id": "38069613",
   "metadata": {},
   "outputs": [],
   "source": []
  }
 ],
 "metadata": {
  "kernelspec": {
   "display_name": "Python 3",
   "language": "python",
   "name": "python3"
  },
  "language_info": {
   "codemirror_mode": {
    "name": "ipython",
    "version": 3
   },
   "file_extension": ".py",
   "mimetype": "text/x-python",
   "name": "python",
   "nbconvert_exporter": "python",
   "pygments_lexer": "ipython3",
   "version": "3.8.10"
  }
 },
 "nbformat": 4,
 "nbformat_minor": 5
}
