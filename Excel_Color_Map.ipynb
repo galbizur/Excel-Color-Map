{
 "cells": [
  {
   "cell_type": "code",
   "execution_count": 75,
   "id": "1501b5d5",
   "metadata": {},
   "outputs": [],
   "source": [
    "import matplotlib.pyplot as plt\n",
    "%matplotlib inline"
   ]
  },
  {
   "cell_type": "code",
   "execution_count": 76,
   "id": "b770e2d7",
   "metadata": {},
   "outputs": [
    {
     "data": {
      "text/plain": [
       "[(0.9725490196078431, 0.4117647058823529, 0.4196078431372549, 1.0),\n",
       " (0.9803921568627451, 0.5568627450980392, 0.4470588235294118, 1.0),\n",
       " (0.9882352941176471, 0.7019607843137254, 0.4745098039215686, 1.0),\n",
       " (0.996078431372549, 0.8470588235294118, 0.5019607843137255, 1.0),\n",
       " (0.9137254901960784, 0.8980392156862745, 0.5137254901960784, 1.0),\n",
       " (0.7411764705882353, 0.8470588235294118, 0.5058823529411764, 1.0),\n",
       " (0.5647058823529412, 0.796078431372549, 0.49411764705882355, 1.0),\n",
       " (0.38823529411764707, 0.7450980392156863, 0.4823529411764706, 1.0)]"
      ]
     },
     "execution_count": 76,
     "metadata": {},
     "output_type": "execute_result"
    }
   ],
   "source": [
    "excel_colors = [(248/255, 105/255, 107/255, 255/255),\n",
    "                (250/255, 142/255, 114/255, 255/255),\n",
    "                (252/255, 179/255, 121/255, 255/255),\n",
    "                (254/255, 216/255, 128/255, 255/255),\n",
    "                (233/255, 229/255, 131/255, 255/255),\n",
    "                (189/255, 216/255, 129/255, 255/255),\n",
    "                (144/255, 203/255, 126/255, 255/255),\n",
    "                (99/255, 190/255, 123/255, 255/255)\n",
    "               ]\n",
    "excel_colors"
   ]
  },
  {
   "cell_type": "code",
   "execution_count": 77,
   "id": "d1cbccdf",
   "metadata": {},
   "outputs": [],
   "source": [
    "from matplotlib.colors import LinearSegmentedColormap"
   ]
  },
  {
   "cell_type": "code",
   "execution_count": 78,
   "id": "da6183ab",
   "metadata": {},
   "outputs": [],
   "source": [
    "my_cmap = LinearSegmentedColormap.from_list('excelColor', excel_colors)"
   ]
  },
  {
   "cell_type": "code",
   "execution_count": 79,
   "id": "d959733e",
   "metadata": {},
   "outputs": [
    {
     "data": {
      "image/png": "[encoded data removed]",
      "text/html": [
       "<div style=\"vertical-align: middle;\"><strong>excelColor</strong> </div><div class=\"cmap\"><img alt=\"excelColor colormap\" title=\"excelColor\" style=\"border: 1px solid #555;\" src=\"data:image/png;base64,iVBORw0KGgoAAAANSUhEUgAAAgAAAABACAYAAABsv8+/AAAAGXRFWHRUaXRsZQBleGNlbENvbG9yIGNvbG9ybWFwtlqDRQAAAB90RVh0RGVzY3JpcHRpb24AZXhjZWxDb2xvciBjb2xvcm1hcMxyQgsAAAAwdEVYdEF1dGhvcgBNYXRwbG90bGliIHYzLjQuMiwgaHR0cHM6Ly9tYXRwbG90bGliLm9yZ6zWY90AAAAydEVYdFNvZnR3YXJlAE1hdHBsb3RsaWIgdjMuNC4yLCBodHRwczovL21hdHBsb3RsaWIub3JngnD8+gAAAcZJREFUeJzt1kFugkAAQFHobZveP+kKupEmStFRq5v/3gYlk2FmJObP359f6zRN0zRP09h1fsu4+eH5XrPO+U37Hh2/P58Hn//xP+scP58H1/n29+jF+zlZt+v57f33G/e3+dfpYv75YtzTzzvf59G8o8/bjTu6nj4sB/e378vB/eFxu+etV+f5ne/G8w7HPbi+Zb2+rvH9Ha1jvT7Ps7/Hdq6j89y9j/Pzufs8bv5+f5//rX2Mvi/Lxfnc+x6NrmP7+wcAQgQAAAQJAAAIEgAAECQAACBIAABAkAAAgCABAABBAgAAggQAAAQJAAAIEgAAECQAACBIAABAkAAAgCABAABBAgAAggQAAAQJAAAIEgAAECQAACBIAABAkAAAgCABAABBAgAAggQAAAQJAAAIEgAAECQAACBIAABAkAAAgCABAABBAgAAggQAAAQJAAAIEgAAECQAACBIAABAkAAAgCABAABBAgAAggQAAAQJAAAIEgAAECQAACBIAABAkAAAgCABAABBAgAAggQAAAQJAAAIEgAAECQAACBIAABAkAAAgCABAABBAgAAggQAAAQJAAAIEgAAECQAACBIAABAkAAAgKAf92ayG6xR+9sAAAAASUVORK5CYII=\"></div><div style=\"vertical-align: middle; max-width: 514px; display: flex; justify-content: space-between;\"><div style=\"float: left;\"><div title=\"#f8696bff\" style=\"display: inline-block; width: 1em; height: 1em; margin: 0; vertical-align: middle; border: 1px solid #555; background-color: #f8696bff;\"></div> under</div><div style=\"margin: 0 auto; display: inline-block;\">bad <div title=\"#00000000\" style=\"display: inline-block; width: 1em; height: 1em; margin: 0; vertical-align: middle; border: 1px solid #555; background-color: #00000000;\"></div></div><div style=\"float: right;\">over <div title=\"#63be7bff\" style=\"display: inline-block; width: 1em; height: 1em; margin: 0; vertical-align: middle; border: 1px solid #555; background-color: #63be7bff;\"></div></div>"
      ],
      "text/plain": [
       "<matplotlib.colors.LinearSegmentedColormap at 0x15dcf7b92b0>"
      ]
     },
     "execution_count": 79,
     "metadata": {},
     "output_type": "execute_result"
    }
   ],
   "source": [
    "my_cmap"
   ]
  },
  {
   "cell_type": "code",
   "execution_count": null,
   "id": "62059c87",
   "metadata": {},
   "outputs": [],
   "source": []
  }
 ],
 "metadata": {
  "kernelspec": {
   "display_name": "Python 3",
   "language": "python",
   "name": "python3"
  },
  "language_info": {
   "codemirror_mode": {
    "name": "ipython",
    "version": 3
   },
   "file_extension": ".py",
   "mimetype": "text/x-python",
   "name": "python",
   "nbconvert_exporter": "python",
   "pygments_lexer": "ipython3",
   "version": "3.8.10"
  }
 },
 "nbformat": 4,
 "nbformat_minor": 5
}
